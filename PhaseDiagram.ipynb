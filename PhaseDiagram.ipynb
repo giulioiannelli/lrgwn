{
 "cells": [
  {
   "cell_type": "code",
   "execution_count": 1,
   "id": "08bae9fc",
   "metadata": {},
   "outputs": [],
   "source": [
    "import numpy as np\n",
    "import pandas as pd\n",
    "def βcH2(α, αc=0.142):\n",
    "    argatan = (2*(αc-α)/(α**2-2*α*αc+2*αc+α*(α**2+4*(1-αc))**(.5)))**(.5)\n",
    "    return np.arctanh(argatan)"
   ]
  },
  {
   "cell_type": "code",
   "execution_count": 18,
   "id": "580047d7",
   "metadata": {},
   "outputs": [
    {
     "data": {
      "image/png": "[encoded data removed]",
      "text/plain": [
       "<Figure size 576x576 with 2 Axes>"
      ]
     },
     "metadata": {
      "needs_background": "light"
     },
     "output_type": "display_data"
    }
   ],
   "source": [
    "import numpy as np\n",
    "import matplotlib.pyplot as plt\n",
    "\n",
    "fig, ax = plt.subplots(figsize=(8, 8))\n",
    "df=pd.read_csv('Phase_Diagram1.csv',delimiter='\\t',header=None)\n",
    "xvals = np.sort(df[2].unique())\n",
    "yvals = np.sort(df[1].unique())\n",
    "zvals = df[3]\n",
    "# a = [[ for beta in yvals] for alpha in xvals]\n",
    "xv = np.copy(df[2])\n",
    "yv = np.copy(df[1]).astype(int)\n",
    "z = np.empty((len(xvals), len(yvals)), object)\n",
    "count = 0\n",
    "for x1 in xvals:\n",
    "    indx = np.where(df.__array__()[:, 2] == x1)[0]\n",
    "    xv[indx] = count\n",
    "    count += 1\n",
    "count = 0\n",
    "for y1 in yvals:\n",
    "    indy = np.where((df.__array__()[:,1]) == y1)[0]\n",
    "    yv[indy] = int(count)\n",
    "    count += 1\n",
    "count = 0\n",
    "for i1 in range(len(xv)):\n",
    "    i = xv[count]\n",
    "    j = yv[count]\n",
    "    z[i, j] = zvals[count]\n",
    "    count += 1\n",
    "# yvals.shape, xvals.shape\n",
    "# # print(len(df[3]))\n",
    "# zvals = df[3].values[:-20].reshape(len(xvals), len(yvals)).T\n",
    "# # plt.tricontourf(df[2]/5000, 1/df[1], (df[3]/(df[0])),1000)\n",
    "xvals = xvals/5000\n",
    "z = z.astype(float)\n",
    "imsh = ax.imshow(z, extent=(np.amin(xvals), np.amax(xvals), np.amin(yvals), np.amax(yvals)),\n",
    "             interpolation=None, aspect = 'auto')\n",
    "# plt.clim(0,1)\n",
    "# plt.xlim(0.01,0.2)\n",
    "# # #plt.xscale('log')\n",
    "\n",
    "x = np.linspace(1e-4, 0.141, num=2000, endpoint=False)\n",
    "# ax.plot(x,1/βcH2(x))\n",
    "# ax.set_yscale('log')\n",
    "clb = fig.colorbar(imsh)\n",
    "imsh.set_clim(0,20)\n",
    "# plt.ylim(0, 4)\n",
    "# plt.xlim(0, 0.2)"
   ]
  },
  {
   "cell_type": "markdown",
   "id": "eb4df972",
   "metadata": {},
   "source": []
  },
  {
   "cell_type": "code",
   "execution_count": 7,
   "id": "9edabe2e",
   "metadata": {},
   "outputs": [
    {
     "data": {
      "text/plain": [
       "array([0.3030303 , 0.33333333, 0.36363636, 0.39370079, 0.42372881,\n",
       "       0.45454545, 0.48543689, 0.51546392, 0.54644809, 0.57471264,\n",
       "       0.60606061, 0.63694268, 0.66666667, 0.69444444, 0.72463768,\n",
       "       0.75757576, 0.78740157, 0.81967213, 0.84745763, 0.87719298,\n",
       "       0.90909091, 0.94339623, 0.97087379, 1.        , 1.02986612,\n",
       "       1.06044539, 1.09051254, 1.12107623, 1.15207373, 1.1820331 ,\n",
       "       1.21212121, 1.24223602, 1.27226463, 1.30378096, 1.33333333,\n",
       "       1.36425648, 1.39470014, 1.42450142, 1.45348837, 1.4858841 ,\n",
       "       1.51515152, 1.54559505, 1.57480315, 1.60513644, 1.63666121,\n",
       "       1.66666667, 1.69779287, 1.72711572, 1.75746924, 1.78890877,\n",
       "       1.81818182, 1.84842884, 1.87969925, 1.90839695, 1.9379845 ,\n",
       "       1.96850394, 2.        , 2.02839757, 2.06185567, 2.09205021,\n",
       "       2.12314225, 2.15053763, 2.18340611, 2.21238938, 2.24215247,\n",
       "       2.27272727, 2.30414747, 2.33100233, 2.36406619, 2.3923445 ,\n",
       "       2.42130751, 2.45700246, 2.48756219, 2.51256281, 2.54452926,\n",
       "       2.57731959, 2.60416667, 2.63852243, 2.66666667, 2.69541779,\n",
       "       2.72479564, 2.75482094, 2.78551532, 2.81690141, 2.84900285,\n",
       "       2.88184438, 2.90697674, 2.94117647, 2.96735905, 3.003003  ])"
      ]
     },
     "execution_count": 7,
     "metadata": {},
     "output_type": "execute_result"
    }
   ],
   "source": [
    "yvals"
   ]
  },
  {
   "cell_type": "code",
   "execution_count": null,
   "id": "a41aa7cd",
   "metadata": {},
   "outputs": [],
   "source": [
    "xvals = df[2].unique()\n",
    "np.where(df.__array__()[:, 2] == xvals[0])[0]"
   ]
  },
  {
   "cell_type": "code",
   "execution_count": null,
   "id": "3ea92cf3",
   "metadata": {},
   "outputs": [],
   "source": [
    "np.unique(df[1])"
   ]
  },
  {
   "cell_type": "code",
   "execution_count": null,
   "id": "412c6dae",
   "metadata": {},
   "outputs": [],
   "source": []
  }
 ],
 "metadata": {
  "kernelspec": {
   "display_name": "Python 3",
   "language": "python",
   "name": "python3"
  },
  "language_info": {
   "codemirror_mode": {
    "name": "ipython",
    "version": 3
   },
   "file_extension": ".py",
   "mimetype": "text/x-python",
   "name": "python",
   "nbconvert_exporter": "python",
   "pygments_lexer": "ipython3",
   "version": "3.9.7"
  },
  "vscode": {
   "interpreter": {
    "hash": "237371dedb8c3e805559d1d58bd069ff5e90075cfe5a692d63a1f3ba527668fc"
   }
  }
 },
 "nbformat": 4,
 "nbformat_minor": 5
}
