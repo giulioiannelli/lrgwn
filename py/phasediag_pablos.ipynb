{
 "cells": [
  {
   "cell_type": "code",
   "execution_count": 2,
   "id": "08bae9fc",
   "metadata": {},
   "outputs": [],
   "source": [
    "import numpy as np\n",
    "import matplotlib.pyplot as plt\n",
    "import pandas as pd\n",
    "#\n",
    "from dhnnlib import *"
   ]
  },
  {
   "cell_type": "code",
   "execution_count": 35,
   "id": "24801654",
   "metadata": {},
   "outputs": [
    {
     "name": "stdout",
     "output_type": "stream",
     "text": [
      "        #      T     K  sum(x)  sum(x²)\n",
      "0     500  0.333  1010   13.90    194.0\n",
      "1     500  0.333   101    4.01     16.2\n",
      "2     500  0.333  1061   14.20    203.0\n",
      "3     500  0.333  1111   14.50    213.0\n",
      "4     500  0.333  1162   14.90    224.0\n",
      "...   ...    ...   ...     ...      ...\n",
      "5129  500  3.300   758   20.20    406.0\n",
      "5130  500  3.300   808   20.80    434.0\n",
      "5131  500  3.300   859   21.50    464.0\n",
      "5132  500  3.300   909   22.20    492.0\n",
      "5133  500  3.300   960   22.80    520.0\n",
      "\n",
      "[5134 rows x 5 columns]\n"
     ]
    }
   ],
   "source": [
    "N = 5000\n",
    "df = pd.read_csv('ph_cleaned.csv', delimiter='\\t', header=0)\n",
    "dfa = df.to_numpy()\n",
    "Mv = df['#'].to_numpy()\n",
    "Av = df['sum(x)'].to_numpy()\n",
    "Av = df['sum(x²)'].to_numpy()\n",
    "Tv = np.sort(df['T'].unique())\n",
    "Kv = np.sort(df['K'].unique())\n",
    "#\n",
    "print(df)"
   ]
  },
  {
   "cell_type": "code",
   "execution_count": 44,
   "id": "4c84c30d",
   "metadata": {},
   "outputs": [
    {
     "name": "stdout",
     "output_type": "stream",
     "text": [
      "ok\n"
     ]
    }
   ],
   "source": [
    "xidx = np.empty(len(dfa), object)\n",
    "yidx = np.empty(len(dfa), object)\n",
    "avg = np.empty((len(xidx), len(yidx)), object)\n",
    "var = np.empty((len(xidx), len(yidx)), object)\n",
    "for iT, T in enumerate(Tv):\n",
    "    indx = np.where(dfa[:,1] == T)[0]\n",
    "    xidx[indx] = iT\n",
    "for iK, K in enumerate(Kv):\n",
    "    indx = np.where(dfa[:,2] == K)[0]\n",
    "    yidx[indx] = iK\n",
    "if not (None in xidx or None in yidx): print(\"ok\")"
   ]
  },
  {
   "cell_type": "code",
   "execution_count": 45,
   "id": "e1092e39",
   "metadata": {},
   "outputs": [],
   "source": [
    "for i, xi in enumerate(xidx):\n",
    "    for yi in yidx:\n",
    "        avg[xi, yi] = Av[i]\n",
    "        var[xi, yi] = Av[i]"
   ]
  },
  {
   "cell_type": "code",
   "execution_count": 73,
   "id": "096efe1c",
   "metadata": {},
   "outputs": [
    {
     "data": {
      "text/plain": [
       "<matplotlib.lines.Line2D at 0x7f3577d3dac0>"
      ]
     },
     "execution_count": 73,
     "metadata": {},
     "output_type": "execute_result"
    },
    {
     "data": {
      "image/png": "[encoded data removed]",
      "text/plain": [
       "<Figure size 576x576 with 2 Axes>"
      ]
     },
     "metadata": {
      "needs_background": "light"
     },
     "output_type": "display_data"
    }
   ],
   "source": [
    "fig, ax = plt.subplots(figsize=(8, 8))\n",
    "\n",
    "x = np.linspace(1e-3, αcStiefvater*.85, num=2000, endpoint=False)\n",
    "imsh = ax.imshow(avg.astype(float)[:len(Tv), :len(Kv)], \n",
    "          extent=(np.amin(Kv)/N, np.amax(Kv)/N, \n",
    "                  np.amin(Tv), np.amax(Tv)),\n",
    "          interpolation=None, aspect = 'auto')\n",
    "ax.plot(x, 1./βcH2(x), 'red')\n",
    "ax.axvline(αcStiefvater, c='black')\n",
    "clb = fig.colorbar(imsh)\n",
    "# imsh.set_clim(None, None)\n",
    "ax.set_xlim(np.amin(Kv)/N, αcStiefvater*1.3)\n",
    "ax.set_xlabel(r\"$\\alpha$\")\n",
    "ax.set_ylabel(r\"$T$\")"
   ]
  },
  {
   "cell_type": "code",
   "execution_count": null,
   "id": "580047d7",
   "metadata": {},
   "outputs": [],
   "source": [
    "\n",
    "\n",
    "# count = 0\n",
    "# for y1 in yvals:\n",
    "#     indy = np.where((df.__array__()[:,1]) == y1)[0]\n",
    "#     yv[indy] = count\n",
    "#     count += 1\n",
    "# count = 0\n",
    "# for i1 in range(len(xv)):\n",
    "#     i = xv[count]\n",
    "#     j = yv[count]\n",
    "#     z[i, j] = zvals[count]\n",
    "#     count += 1\n",
    "\n",
    "\n",
    "\n",
    "\n",
    "\n",
    "# fig, ax = plt.subplots(figsize=(8, 8))\n",
    "# # yvals.shape, xvals.shape\n",
    "# # # print(len(df[3]))\n",
    "# # zvals = df[3].values[:-20].reshape(len(xvals), len(yvals)).T\n",
    "# # # plt.tricontourf(df[2]/5000, 1/df[1], (df[3]/(df[0])),1000)\n",
    "# xvals = xvals/5000\n",
    "# z = z.astype(float)\n",
    "# imsh = ax.imshow(z, extent=(np.amin(xvals), np.amax(xvals), np.amin(yvals), np.amax(yvals)),\n",
    "#              interpolation=None, aspect = 'auto')\n",
    "# # plt.clim(0,1)\n",
    "# # plt.xlim(0.01,0.2)\n",
    "# # # #plt.xscale('log')\n",
    "\n",
    "# x = np.linspace(1e-4, 0.141, num=2000, endpoint=False)\n",
    "# # ax.plot(x,1/βcH2(x))\n",
    "# # ax.set_yscale('log')\n",
    "# ax.set_xlabel(r\"$\\alpha$\")\n",
    "# ax.set_ylabel(r\"$T$\")\n",
    "# clb = fig.colorbar(imsh)\n",
    "# imsh.set_clim(0,10)\n",
    "# # plt.ylim(0, 4)\n",
    "# # plt.xlim(0, 0.2)"
   ]
  }
 ],
 "metadata": {
  "kernelspec": {
   "display_name": "Python 3",
   "language": "python",
   "name": "python3"
  },
  "language_info": {
   "codemirror_mode": {
    "name": "ipython",
    "version": 3
   },
   "file_extension": ".py",
   "mimetype": "text/x-python",
   "name": "python",
   "nbconvert_exporter": "python",
   "pygments_lexer": "ipython3",
   "version": "3.9.7 (default, Sep 16 2021, 13:09:58) \n[GCC 7.5.0]"
  },
  "vscode": {
   "interpreter": {
    "hash": "237371dedb8c3e805559d1d58bd069ff5e90075cfe5a692d63a1f3ba527668fc"
   }
  }
 },
 "nbformat": 4,
 "nbformat_minor": 5
}
